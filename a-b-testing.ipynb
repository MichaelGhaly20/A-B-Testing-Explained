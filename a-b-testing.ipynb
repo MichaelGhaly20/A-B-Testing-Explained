{
 "cells": [
  {
   "cell_type": "markdown",
   "id": "ce0d2874",
   "metadata": {
    "papermill": {
     "duration": 0.045831,
     "end_time": "2021-10-08T11:17:02.373686",
     "exception": false,
     "start_time": "2021-10-08T11:17:02.327855",
     "status": "completed"
    },
    "tags": []
   },
   "source": [
    "# How to Do A/B Testing?"
   ]
  },
  {
   "cell_type": "markdown",
   "id": "9f422371",
   "metadata": {
    "papermill": {
     "duration": 0.04902,
     "end_time": "2021-10-08T11:17:02.470385",
     "exception": false,
     "start_time": "2021-10-08T11:17:02.421365",
     "status": "completed"
    },
    "tags": []
   },
   "source": [
    "First of all, a decision should be made about which variable A B test will be performed on. To go through a common example in digital marketing, let's talk about an experiment to be done on the CTA (Call-to-Action) text of an ad image. Let's assume that the current advertisement image says \"Make an Appointment Now\", and if we are wondering how it will perform, \"Call Now\". In the final stage, these two alternative texts should be evaluated under equal conditions."
   ]
  },
  {
   "cell_type": "markdown",
   "id": "4b46a309",
   "metadata": {
    "papermill": {
     "duration": 0.061799,
     "end_time": "2021-10-08T11:17:02.587816",
     "exception": false,
     "start_time": "2021-10-08T11:17:02.526017",
     "status": "completed"
    },
    "tags": []
   },
   "source": [
    "*When doing A/B testing, there are some factors that you need to pay attention to in order to be able to do it in the most effective way.*\n",
    "\n",
    "**Period**: Both versions should be tested at the same time. If version A is tested in September and version B is tested in November, we won't know if the results are different because of timing and not because of different elements.\n",
    "\n",
    "**Randomness**: Test groups should be randomly and equally divided so that the results are unbiased.\n",
    "\n",
    "**Time**: If the test is only done for a short time, the results may not be enough to make a decision."
   ]
  },
  {
   "cell_type": "markdown",
   "id": "5af124ff",
   "metadata": {
    "papermill": {
     "duration": 0.045788,
     "end_time": "2021-10-08T11:17:02.681179",
     "exception": false,
     "start_time": "2021-10-08T11:17:02.635391",
     "status": "completed"
    },
    "tags": []
   },
   "source": [
    "The correct test method must be selected.\n",
    "statistical hypotheses must be properly established and tested.\n",
    "\n",
    "\n",
    "An example hypothesis to be established for the problem might be as follows:\n",
    "\n",
    "H0: There is no statistically significant difference between the conversion rate value of the old system and the conversion rate value of the new system.\n",
    "\n",
    "H1: There is a statistically significant difference between the conversion rate value of the old system and the conversion rate value of the new system."
   ]
  },
  {
   "cell_type": "markdown",
   "id": "3190da92",
   "metadata": {
    "papermill": {
     "duration": 0.046017,
     "end_time": "2021-10-08T11:17:02.773479",
     "exception": false,
     "start_time": "2021-10-08T11:17:02.727462",
     "status": "completed"
    },
    "tags": []
   },
   "source": [
    "# A/B Test Step by Step"
   ]
  },
  {
   "cell_type": "markdown",
   "id": "3ed1ddc2",
   "metadata": {
    "_cell_guid": "b1076dfc-b9ad-4769-8c92-a6c4dae69d19",
    "_uuid": "8f2839f25d086af736a60e9eeb907d3b93b6e0e5",
    "papermill": {
     "duration": 0.045571,
     "end_time": "2021-10-08T11:17:02.865231",
     "exception": false,
     "start_time": "2021-10-08T11:17:02.819660",
     "status": "completed"
    },
    "tags": []
   },
   "source": [
    "Througout our testing process, we have a dataset containing data for 2 different designs (old_page vs new_page) of a private website page. The data set consists of **Impression**, **Click**, **Purchase**, **Earning** columns."
   ]
  },
  {
   "cell_type": "markdown",
   "id": "26828c5d",
   "metadata": {
    "papermill": {
     "duration": 0.047015,
     "end_time": "2021-10-08T11:17:02.958786",
     "exception": false,
     "start_time": "2021-10-08T11:17:02.911771",
     "status": "completed"
    },
    "tags": []
   },
   "source": [
    "**Impression** – Number of ad views\n",
    "\n",
    "**Click** – Specifies the number of clicks on the ad that appears.\n",
    "\n",
    "**Purchase** – Specifies the number of products purchased after clicked ads.\n",
    "\n",
    "**Earning** – Gain after purchased products"
   ]
  },
  {
   "cell_type": "markdown",
   "id": "8902830d",
   "metadata": {
    "papermill": {
     "duration": 0.047083,
     "end_time": "2021-10-08T11:17:03.052774",
     "exception": false,
     "start_time": "2021-10-08T11:17:03.005691",
     "status": "completed"
    },
    "tags": []
   },
   "source": [
    "**Let's set up the hypothesis:**\n",
    "\n",
    "H0: There is no statistically significant difference between Maximum Bidding and Average Bidding\n",
    "\n",
    "H1: There is a statistically significant difference between Maximum Bidding and Average Bidding"
   ]
  },
  {
   "cell_type": "code",
   "execution_count": 1,
   "id": "11922a79",
   "metadata": {
    "execution": {
     "iopub.execute_input": "2021-10-08T11:17:03.153099Z",
     "iopub.status.busy": "2021-10-08T11:17:03.152382Z",
     "iopub.status.idle": "2021-10-08T11:17:04.323666Z",
     "shell.execute_reply": "2021-10-08T11:17:04.322786Z",
     "shell.execute_reply.started": "2021-10-07T09:53:58.179606Z"
    },
    "papermill": {
     "duration": 1.225206,
     "end_time": "2021-10-08T11:17:04.323860",
     "exception": false,
     "start_time": "2021-10-08T11:17:03.098654",
     "status": "completed"
    },
    "tags": []
   },
   "outputs": [],
   "source": [
    "import itertools\n",
    "import numpy as np\n",
    "import pandas as pd\n",
    "import matplotlib.pyplot as plt\n",
    "import seaborn as sns\n",
    "import statsmodels.stats.api as sms\n",
    "from scipy.stats import ttest_1samp, shapiro, levene, ttest_ind, mannwhitneyu, pearsonr, spearmanr, kendalltau, \\\n",
    "    f_oneway, kruskal\n",
    "from statsmodels.stats.proportion import proportions_ztest"
   ]
  },
  {
   "cell_type": "code",
   "execution_count": 2,
   "id": "fe326310",
   "metadata": {
    "execution": {
     "iopub.execute_input": "2021-10-08T11:17:04.423851Z",
     "iopub.status.busy": "2021-10-08T11:17:04.422794Z",
     "iopub.status.idle": "2021-10-08T11:17:04.427368Z",
     "shell.execute_reply": "2021-10-08T11:17:04.427848Z",
     "shell.execute_reply.started": "2021-10-07T09:57:53.157372Z"
    },
    "papermill": {
     "duration": 0.057011,
     "end_time": "2021-10-08T11:17:04.428076",
     "exception": false,
     "start_time": "2021-10-08T11:17:04.371065",
     "status": "completed"
    },
    "tags": []
   },
   "outputs": [],
   "source": [
    "pd.set_option('display.max_columns', None)\n",
    "pd.set_option('display.max_rows', 10)\n",
    "pd.set_option('display.float_format', lambda x: '%.5f' % x)"
   ]
  },
  {
   "cell_type": "markdown",
   "id": "9ef0710c",
   "metadata": {
    "papermill": {
     "duration": 0.046412,
     "end_time": "2021-10-08T11:17:04.521144",
     "exception": false,
     "start_time": "2021-10-08T11:17:04.474732",
     "status": "completed"
    },
    "tags": []
   },
   "source": [
    "Let's read the dataset. In order to test, we will need two groups, the **Control Group** and the **Test Group**."
   ]
  },
  {
   "cell_type": "markdown",
   "id": "542eaf91",
   "metadata": {
    "papermill": {
     "duration": 0.046219,
     "end_time": "2021-10-08T11:17:04.614190",
     "exception": false,
     "start_time": "2021-10-08T11:17:04.567971",
     "status": "completed"
    },
    "tags": []
   },
   "source": [
    "CONTROL GROUP: We can read the data set of the control group as follows."
   ]
  },
  {
   "cell_type": "code",
   "execution_count": 3,
   "id": "c5bbae70",
   "metadata": {
    "execution": {
     "iopub.execute_input": "2021-10-08T11:17:04.712828Z",
     "iopub.status.busy": "2021-10-08T11:17:04.711732Z",
     "iopub.status.idle": "2021-10-08T11:17:15.217733Z",
     "shell.execute_reply": "2021-10-08T11:17:15.218459Z",
     "shell.execute_reply.started": "2021-10-07T09:57:59.515298Z"
    },
    "papermill": {
     "duration": 10.557853,
     "end_time": "2021-10-08T11:17:15.218729",
     "exception": false,
     "start_time": "2021-10-08T11:17:04.660876",
     "status": "completed"
    },
    "tags": []
   },
   "outputs": [
    {
     "name": "stdout",
     "output_type": "stream",
     "text": [
      "Collecting openpyxl\r\n",
      "  Downloading openpyxl-3.0.9-py2.py3-none-any.whl (242 kB)\r\n",
      "\u001b[K     |████████████████████████████████| 242 kB 811 kB/s \r\n",
      "\u001b[?25hCollecting et-xmlfile\r\n",
      "  Downloading et_xmlfile-1.1.0-py3-none-any.whl (4.7 kB)\r\n",
      "Installing collected packages: et-xmlfile, openpyxl\r\n",
      "Successfully installed et-xmlfile-1.1.0 openpyxl-3.0.9\r\n",
      "\u001b[33mWARNING: Running pip as the 'root' user can result in broken permissions and conflicting behaviour with the system package manager. It is recommended to use a virtual environment instead: https://pip.pypa.io/warnings/venv\u001b[0m\r\n",
      "Note: you may need to restart the kernel to use updated packages.\n"
     ]
    }
   ],
   "source": [
    "pip install openpyxl"
   ]
  },
  {
   "cell_type": "code",
   "execution_count": 3,
   "id": "34289e9e",
   "metadata": {
    "execution": {
     "iopub.execute_input": "2021-10-08T11:17:15.325509Z",
     "iopub.status.busy": "2021-10-08T11:17:15.324783Z",
     "iopub.status.idle": "2021-10-08T11:17:15.604272Z",
     "shell.execute_reply": "2021-10-08T11:17:15.602994Z",
     "shell.execute_reply.started": "2021-10-07T10:04:39.979524Z"
    },
    "papermill": {
     "duration": 0.334316,
     "end_time": "2021-10-08T11:17:15.604431",
     "exception": false,
     "start_time": "2021-10-08T11:17:15.270115",
     "status": "completed"
    },
    "tags": []
   },
   "outputs": [
    {
     "data": {
      "text/html": [
       "<div>\n",
       "<style scoped>\n",
       "    .dataframe tbody tr th:only-of-type {\n",
       "        vertical-align: middle;\n",
       "    }\n",
       "\n",
       "    .dataframe tbody tr th {\n",
       "        vertical-align: top;\n",
       "    }\n",
       "\n",
       "    .dataframe thead th {\n",
       "        text-align: right;\n",
       "    }\n",
       "</style>\n",
       "<table border=\"1\" class=\"dataframe\">\n",
       "  <thead>\n",
       "    <tr style=\"text-align: right;\">\n",
       "      <th></th>\n",
       "      <th>Impression</th>\n",
       "      <th>Click</th>\n",
       "      <th>Purchase</th>\n",
       "      <th>Earning</th>\n",
       "    </tr>\n",
       "  </thead>\n",
       "  <tbody>\n",
       "    <tr>\n",
       "      <th>0</th>\n",
       "      <td>82529.45927</td>\n",
       "      <td>6090.07732</td>\n",
       "      <td>665.21125</td>\n",
       "      <td>2311.27714</td>\n",
       "    </tr>\n",
       "    <tr>\n",
       "      <th>1</th>\n",
       "      <td>98050.45193</td>\n",
       "      <td>3382.86179</td>\n",
       "      <td>315.08489</td>\n",
       "      <td>1742.80686</td>\n",
       "    </tr>\n",
       "    <tr>\n",
       "      <th>2</th>\n",
       "      <td>82696.02355</td>\n",
       "      <td>4167.96575</td>\n",
       "      <td>458.08374</td>\n",
       "      <td>1797.82745</td>\n",
       "    </tr>\n",
       "    <tr>\n",
       "      <th>3</th>\n",
       "      <td>109914.40040</td>\n",
       "      <td>4910.88224</td>\n",
       "      <td>487.09077</td>\n",
       "      <td>1696.22918</td>\n",
       "    </tr>\n",
       "    <tr>\n",
       "      <th>4</th>\n",
       "      <td>108457.76263</td>\n",
       "      <td>5987.65581</td>\n",
       "      <td>441.03405</td>\n",
       "      <td>1543.72018</td>\n",
       "    </tr>\n",
       "  </tbody>\n",
       "</table>\n",
       "</div>"
      ],
      "text/plain": [
       "    Impression      Click  Purchase    Earning\n",
       "0  82529.45927 6090.07732 665.21125 2311.27714\n",
       "1  98050.45193 3382.86179 315.08489 1742.80686\n",
       "2  82696.02355 4167.96575 458.08374 1797.82745\n",
       "3 109914.40040 4910.88224 487.09077 1696.22918\n",
       "4 108457.76263 5987.65581 441.03405 1543.72018"
      ]
     },
     "execution_count": 3,
     "metadata": {},
     "output_type": "execute_result"
    }
   ],
   "source": [
    "df_control = pd.read_excel(\"ab_testing.xlsx\",sheet_name= \"Control Group\")\n",
    "df_control.head()"
   ]
  },
  {
   "cell_type": "markdown",
   "id": "3a2f25d8",
   "metadata": {
    "papermill": {
     "duration": 0.04923,
     "end_time": "2021-10-08T11:17:15.703649",
     "exception": false,
     "start_time": "2021-10-08T11:17:15.654419",
     "status": "completed"
    },
    "tags": []
   },
   "source": [
    "For a first impression of our control group dataset, we can take a quick look."
   ]
  },
  {
   "cell_type": "code",
   "execution_count": 4,
   "id": "5033b074",
   "metadata": {
    "execution": {
     "iopub.execute_input": "2021-10-08T11:17:15.827586Z",
     "iopub.status.busy": "2021-10-08T11:17:15.809346Z",
     "iopub.status.idle": "2021-10-08T11:17:15.830792Z",
     "shell.execute_reply": "2021-10-08T11:17:15.831360Z",
     "shell.execute_reply.started": "2021-10-07T10:04:43.494127Z"
    },
    "papermill": {
     "duration": 0.078405,
     "end_time": "2021-10-08T11:17:15.831530",
     "exception": false,
     "start_time": "2021-10-08T11:17:15.753125",
     "status": "completed"
    },
    "tags": []
   },
   "outputs": [
    {
     "name": "stdout",
     "output_type": "stream",
     "text": [
      "<class 'pandas.core.frame.DataFrame'>\n",
      "RangeIndex: 40 entries, 0 to 39\n",
      "Data columns (total 4 columns):\n",
      " #   Column      Non-Null Count  Dtype  \n",
      "---  ------      --------------  -----  \n",
      " 0   Impression  40 non-null     float64\n",
      " 1   Click       40 non-null     float64\n",
      " 2   Purchase    40 non-null     float64\n",
      " 3   Earning     40 non-null     float64\n",
      "dtypes: float64(4)\n",
      "memory usage: 1.4 KB\n"
     ]
    }
   ],
   "source": [
    "df_control.info()"
   ]
  },
  {
   "cell_type": "markdown",
   "id": "82f87f4d",
   "metadata": {
    "papermill": {
     "duration": 0.049469,
     "end_time": "2021-10-08T11:17:15.931753",
     "exception": false,
     "start_time": "2021-10-08T11:17:15.882284",
     "status": "completed"
    },
    "tags": []
   },
   "source": [
    "TEST GROUP: After the control group, we read the data set of the test group as follows."
   ]
  },
  {
   "cell_type": "code",
   "execution_count": 6,
   "id": "c822a3cc",
   "metadata": {
    "execution": {
     "iopub.execute_input": "2021-10-08T11:17:16.036438Z",
     "iopub.status.busy": "2021-10-08T11:17:16.035716Z",
     "iopub.status.idle": "2021-10-08T11:17:16.066220Z",
     "shell.execute_reply": "2021-10-08T11:17:16.065694Z",
     "shell.execute_reply.started": "2021-10-07T10:05:59.308286Z"
    },
    "papermill": {
     "duration": 0.084635,
     "end_time": "2021-10-08T11:17:16.066369",
     "exception": false,
     "start_time": "2021-10-08T11:17:15.981734",
     "status": "completed"
    },
    "tags": []
   },
   "outputs": [
    {
     "data": {
      "text/html": [
       "<div>\n",
       "<style scoped>\n",
       "    .dataframe tbody tr th:only-of-type {\n",
       "        vertical-align: middle;\n",
       "    }\n",
       "\n",
       "    .dataframe tbody tr th {\n",
       "        vertical-align: top;\n",
       "    }\n",
       "\n",
       "    .dataframe thead th {\n",
       "        text-align: right;\n",
       "    }\n",
       "</style>\n",
       "<table border=\"1\" class=\"dataframe\">\n",
       "  <thead>\n",
       "    <tr style=\"text-align: right;\">\n",
       "      <th></th>\n",
       "      <th>Impression</th>\n",
       "      <th>Click</th>\n",
       "      <th>Purchase</th>\n",
       "      <th>Earning</th>\n",
       "    </tr>\n",
       "  </thead>\n",
       "  <tbody>\n",
       "    <tr>\n",
       "      <th>0</th>\n",
       "      <td>120103.50380</td>\n",
       "      <td>3216.54796</td>\n",
       "      <td>702.16035</td>\n",
       "      <td>1939.61124</td>\n",
       "    </tr>\n",
       "    <tr>\n",
       "      <th>1</th>\n",
       "      <td>134775.94336</td>\n",
       "      <td>3635.08242</td>\n",
       "      <td>834.05429</td>\n",
       "      <td>2929.40582</td>\n",
       "    </tr>\n",
       "    <tr>\n",
       "      <th>2</th>\n",
       "      <td>107806.62079</td>\n",
       "      <td>3057.14356</td>\n",
       "      <td>422.93426</td>\n",
       "      <td>2526.24488</td>\n",
       "    </tr>\n",
       "    <tr>\n",
       "      <th>3</th>\n",
       "      <td>116445.27553</td>\n",
       "      <td>4650.47391</td>\n",
       "      <td>429.03353</td>\n",
       "      <td>2281.42857</td>\n",
       "    </tr>\n",
       "    <tr>\n",
       "      <th>4</th>\n",
       "      <td>145082.51684</td>\n",
       "      <td>5201.38772</td>\n",
       "      <td>749.86044</td>\n",
       "      <td>2781.69752</td>\n",
       "    </tr>\n",
       "  </tbody>\n",
       "</table>\n",
       "</div>"
      ],
      "text/plain": [
       "    Impression      Click  Purchase    Earning\n",
       "0 120103.50380 3216.54796 702.16035 1939.61124\n",
       "1 134775.94336 3635.08242 834.05429 2929.40582\n",
       "2 107806.62079 3057.14356 422.93426 2526.24488\n",
       "3 116445.27553 4650.47391 429.03353 2281.42857\n",
       "4 145082.51684 5201.38772 749.86044 2781.69752"
      ]
     },
     "execution_count": 6,
     "metadata": {},
     "output_type": "execute_result"
    }
   ],
   "source": [
    "df_test = pd.read_excel(\"ab_testing.xlsx\",sheet_name= \"Test Group\")\n",
    "df_test.head()"
   ]
  },
  {
   "cell_type": "code",
   "execution_count": 7,
   "id": "7714f2cb",
   "metadata": {
    "execution": {
     "iopub.execute_input": "2021-10-08T11:17:16.179753Z",
     "iopub.status.busy": "2021-10-08T11:17:16.179011Z",
     "iopub.status.idle": "2021-10-08T11:17:16.181566Z",
     "shell.execute_reply": "2021-10-08T11:17:16.182091Z",
     "shell.execute_reply.started": "2021-10-07T10:06:12.288852Z"
    },
    "papermill": {
     "duration": 0.065382,
     "end_time": "2021-10-08T11:17:16.182263",
     "exception": false,
     "start_time": "2021-10-08T11:17:16.116881",
     "status": "completed"
    },
    "tags": []
   },
   "outputs": [
    {
     "name": "stdout",
     "output_type": "stream",
     "text": [
      "<class 'pandas.core.frame.DataFrame'>\n",
      "RangeIndex: 40 entries, 0 to 39\n",
      "Data columns (total 4 columns):\n",
      " #   Column      Non-Null Count  Dtype  \n",
      "---  ------      --------------  -----  \n",
      " 0   Impression  40 non-null     float64\n",
      " 1   Click       40 non-null     float64\n",
      " 2   Purchase    40 non-null     float64\n",
      " 3   Earning     40 non-null     float64\n",
      "dtypes: float64(4)\n",
      "memory usage: 1.4 KB\n"
     ]
    }
   ],
   "source": [
    "df_test.info()"
   ]
  },
  {
   "cell_type": "markdown",
   "id": "d3ac8904",
   "metadata": {
    "papermill": {
     "duration": 0.051301,
     "end_time": "2021-10-08T11:17:16.284104",
     "exception": false,
     "start_time": "2021-10-08T11:17:16.232803",
     "status": "completed"
    },
    "tags": []
   },
   "source": [
    "# Formulating a Hypothesis"
   ]
  },
  {
   "cell_type": "markdown",
   "id": "6cb0744c",
   "metadata": {
    "papermill": {
     "duration": 0.051112,
     "end_time": "2021-10-08T11:17:16.387011",
     "exception": false,
     "start_time": "2021-10-08T11:17:16.335899",
     "status": "completed"
    },
    "tags": []
   },
   "source": [
    "1. Assumption is Normality\n",
    "2. Assumption is Variance Homogenity\n",
    "\n",
    "* If assumptions are provided then two independent sample t-tests (parametric testing) will be applied \n",
    "\n",
    "* If assumptions are not provided then Mannwhitneyu test (non-parametric test) will be applied\n",
    "\n",
    "\n",
    "\n",
    "\n",
    "Therefore, we should first look at the assumption of normality."
   ]
  },
  {
   "cell_type": "markdown",
   "id": "c9f60612",
   "metadata": {
    "papermill": {
     "duration": 0.051114,
     "end_time": "2021-10-08T11:17:16.489883",
     "exception": false,
     "start_time": "2021-10-08T11:17:16.438769",
     "status": "completed"
    },
    "tags": []
   },
   "source": [
    "We will perform hypothesis testing. It is necessary to interpret whether the results are statistically significant. Normality assumption check is considered as the first step of this test."
   ]
  },
  {
   "cell_type": "markdown",
   "id": "6cd73c5d",
   "metadata": {
    "papermill": {
     "duration": 0.050999,
     "end_time": "2021-10-08T11:17:16.592351",
     "exception": false,
     "start_time": "2021-10-08T11:17:16.541352",
     "status": "completed"
    },
    "tags": []
   },
   "source": [
    "# Normality Assumption"
   ]
  },
  {
   "cell_type": "markdown",
   "id": "776635cd",
   "metadata": {
    "papermill": {
     "duration": 0.051443,
     "end_time": "2021-10-08T11:17:16.697336",
     "exception": false,
     "start_time": "2021-10-08T11:17:16.645893",
     "status": "completed"
    },
    "tags": []
   },
   "source": [
    "It is possible to use various normality tests in order to reveal whether the data are suitable for normal distribution. The most well-known of these tests are Chi-Square, Kolmogorow-Smirnov, Lilliefors and Shapiro-Wilk normality tests. Among these, we will use the SHAPIRO WILK-W test."
   ]
  },
  {
   "cell_type": "markdown",
   "id": "a8f93f77",
   "metadata": {
    "papermill": {
     "duration": 0.051872,
     "end_time": "2021-10-08T11:17:16.801175",
     "exception": false,
     "start_time": "2021-10-08T11:17:16.749303",
     "status": "completed"
    },
    "tags": []
   },
   "source": [
    "# 1. Shapiro Wilk-W Test"
   ]
  },
  {
   "cell_type": "markdown",
   "id": "30bcc521",
   "metadata": {
    "papermill": {
     "duration": 0.051809,
     "end_time": "2021-10-08T11:17:16.905450",
     "exception": false,
     "start_time": "2021-10-08T11:17:16.853641",
     "status": "completed"
    },
    "tags": []
   },
   "source": [
    "Shapiro-Wilk and Kolmogorov-Smirnov are the most commonly used tests for the normal distribution test, and their hypotheses are basically the same. In contrast to other comparison tests the Shapiro-Wilk test is only applicable to check for normality. \n",
    "\n",
    "H0: The variable has a normal distribution. p-value > 0.05\n",
    "\n",
    "H1: The variable does not have a normal distribution. p-value < 0.05"
   ]
  },
  {
   "cell_type": "markdown",
   "id": "688828c2",
   "metadata": {
    "papermill": {
     "duration": 0.051139,
     "end_time": "2021-10-08T11:17:17.008087",
     "exception": false,
     "start_time": "2021-10-08T11:17:16.956948",
     "status": "completed"
    },
    "tags": []
   },
   "source": [
    "The null-hypothesis of this test is that the population is normally distributed. Thus, if the p value is less than the chosen alpha level, then the null hypothesis is rejected and there is evidence that the data tested are not normally distributed. On the other hand, if the p value is greater than the chosen alpha level, then the null hypothesis can not be rejected."
   ]
  },
  {
   "cell_type": "markdown",
   "id": "9692da0c",
   "metadata": {
    "papermill": {
     "duration": 0.051241,
     "end_time": "2021-10-08T11:17:17.111465",
     "exception": false,
     "start_time": "2021-10-08T11:17:17.060224",
     "status": "completed"
    },
    "tags": []
   },
   "source": [
    "H0: Normal distribution assumption is provided.\n",
    "\n",
    "H1: Normal distribution assumption is not provided."
   ]
  },
  {
   "cell_type": "code",
   "execution_count": 8,
   "id": "9021ec41",
   "metadata": {
    "execution": {
     "iopub.execute_input": "2021-10-08T11:17:17.220996Z",
     "iopub.status.busy": "2021-10-08T11:17:17.220224Z",
     "iopub.status.idle": "2021-10-08T11:17:17.223018Z",
     "shell.execute_reply": "2021-10-08T11:17:17.223521Z",
     "shell.execute_reply.started": "2021-10-07T10:08:28.19568Z"
    },
    "papermill": {
     "duration": 0.060538,
     "end_time": "2021-10-08T11:17:17.223712",
     "exception": false,
     "start_time": "2021-10-08T11:17:17.163174",
     "status": "completed"
    },
    "tags": []
   },
   "outputs": [
    {
     "data": {
      "text/plain": [
       "550.8940587702316"
      ]
     },
     "execution_count": 8,
     "metadata": {},
     "output_type": "execute_result"
    }
   ],
   "source": [
    "df_control['Purchase'].mean()"
   ]
  },
  {
   "cell_type": "code",
   "execution_count": 9,
   "id": "c19fb76f",
   "metadata": {
    "execution": {
     "iopub.execute_input": "2021-10-08T11:17:17.334367Z",
     "iopub.status.busy": "2021-10-08T11:17:17.333668Z",
     "iopub.status.idle": "2021-10-08T11:17:17.337671Z",
     "shell.execute_reply": "2021-10-08T11:17:17.337148Z",
     "shell.execute_reply.started": "2021-10-07T10:08:30.707325Z"
    },
    "papermill": {
     "duration": 0.061101,
     "end_time": "2021-10-08T11:17:17.337810",
     "exception": false,
     "start_time": "2021-10-08T11:17:17.276709",
     "status": "completed"
    },
    "tags": []
   },
   "outputs": [
    {
     "data": {
      "text/plain": [
       "582.1060966484675"
      ]
     },
     "execution_count": 9,
     "metadata": {},
     "output_type": "execute_result"
    }
   ],
   "source": [
    "df_test['Purchase'].mean()"
   ]
  },
  {
   "cell_type": "code",
   "execution_count": 10,
   "id": "2c2d5e97",
   "metadata": {
    "execution": {
     "iopub.execute_input": "2021-10-08T11:17:17.446439Z",
     "iopub.status.busy": "2021-10-08T11:17:17.445760Z",
     "iopub.status.idle": "2021-10-08T11:17:17.450319Z",
     "shell.execute_reply": "2021-10-08T11:17:17.449603Z",
     "shell.execute_reply.started": "2021-10-07T10:08:35.738584Z"
    },
    "papermill": {
     "duration": 0.061238,
     "end_time": "2021-10-08T11:17:17.450505",
     "exception": false,
     "start_time": "2021-10-08T11:17:17.389267",
     "status": "completed"
    },
    "tags": []
   },
   "outputs": [
    {
     "name": "stdout",
     "output_type": "stream",
     "text": [
      "Test Stat = 0.9773, p-value = 0.5891\n",
      "Test Stat = 0.9589, p-value = 0.1541\n"
     ]
    }
   ],
   "source": [
    "test_stat, pvalue = shapiro(df_control[\"Purchase\"])\n",
    "print('Test Stat = %.4f, p-value = %.4f' % (test_stat, pvalue))\n",
    "\n",
    "test_stat, pvalue = shapiro(df_test[\"Purchase\"])\n",
    "print('Test Stat = %.4f, p-value = %.4f' % (test_stat, pvalue))"
   ]
  },
  {
   "cell_type": "markdown",
   "id": "599ec0a2",
   "metadata": {
    "papermill": {
     "duration": 0.051411,
     "end_time": "2021-10-08T11:17:17.554261",
     "exception": false,
     "start_time": "2021-10-08T11:17:17.502850",
     "status": "completed"
    },
    "tags": []
   },
   "source": [
    "H0 cannot be **rejected** for each group because p-value = 0.1541 and 0.5891 > 0.05, so that is, the normal distribution assumption of is provided. **H0 cannot be rejected.**"
   ]
  },
  {
   "cell_type": "markdown",
   "id": "233db510",
   "metadata": {
    "papermill": {
     "duration": 0.051139,
     "end_time": "2021-10-08T11:17:17.656815",
     "exception": false,
     "start_time": "2021-10-08T11:17:17.605676",
     "status": "completed"
    },
    "tags": []
   },
   "source": [
    "> Now that the variance of normality is satisfied, we should be able to control the homogeneity of the variance."
   ]
  },
  {
   "cell_type": "markdown",
   "id": "9027360e",
   "metadata": {
    "papermill": {
     "duration": 0.051064,
     "end_time": "2021-10-08T11:17:17.759369",
     "exception": false,
     "start_time": "2021-10-08T11:17:17.708305",
     "status": "completed"
    },
    "tags": []
   },
   "source": [
    "# Variance Homogenity Assumption"
   ]
  },
  {
   "cell_type": "markdown",
   "id": "91bea5d0",
   "metadata": {
    "papermill": {
     "duration": 0.0513,
     "end_time": "2021-10-08T11:17:17.862168",
     "exception": false,
     "start_time": "2021-10-08T11:17:17.810868",
     "status": "completed"
    },
    "tags": []
   },
   "source": [
    "# 1. Levene's Test"
   ]
  },
  {
   "cell_type": "markdown",
   "id": "0e6998b3",
   "metadata": {
    "papermill": {
     "duration": 0.052494,
     "end_time": "2021-10-08T11:17:17.966182",
     "exception": false,
     "start_time": "2021-10-08T11:17:17.913688",
     "status": "completed"
    },
    "tags": []
   },
   "source": [
    "**H0: Variances are Homogeneous.**\n",
    "\n",
    "**H1: Variances are not Homogeneous.**\n",
    "\n",
    "\n",
    "Levene's test is used to test the homogeneity of group variances. Levene test: It is run when groups are two or more. In other words, it is used in independent groups t test and Anova test. It is not used in the t test in dependent groups where the number of groups is odd. The sig (p) value found as a result of the Levene test is checked. If this value is greater than 0.05, we say that there is no difference. There is no difference between the groups. So we say the variances are equal (homogeneous). In this case, the values ​​in the first row (t value, p value) are taken into account. If equality of variances is not achieved, the values ​​in the second row (t value, p value) are taken into account. For example: p of the Levene test\n",
    "Let the value be 0.949. Since this value is greater than 0.05, we say that the variances are equal (Equal variances assumed). And in the rest of the first line, we look at the values. Let the p value of the sample t test be found to be 0.123. If this value is less than/equal to p=0.05, the hypothesis is confirmed. Otherwise, it will not be validated. The equation in our example was: 0.123>0.05. In this case, our hypothesis was not confirmed. H0 accepted, H1 rejected."
   ]
  },
  {
   "cell_type": "code",
   "execution_count": 11,
   "id": "84de58a7",
   "metadata": {
    "execution": {
     "iopub.execute_input": "2021-10-08T11:17:18.075097Z",
     "iopub.status.busy": "2021-10-08T11:17:18.074035Z",
     "iopub.status.idle": "2021-10-08T11:17:18.079173Z",
     "shell.execute_reply": "2021-10-08T11:17:18.080078Z",
     "shell.execute_reply.started": "2021-10-07T10:08:59.746202Z"
    },
    "papermill": {
     "duration": 0.062637,
     "end_time": "2021-10-08T11:17:18.080393",
     "exception": false,
     "start_time": "2021-10-08T11:17:18.017756",
     "status": "completed"
    },
    "tags": []
   },
   "outputs": [
    {
     "name": "stdout",
     "output_type": "stream",
     "text": [
      "Test Stat = 2.6393, p-value = 0.1083\n"
     ]
    }
   ],
   "source": [
    "test_stat, pvalue = levene(df_control['Purchase'],\n",
    "                           df_test['Purchase'])\n",
    "print('Test Stat = %.4f, p-value = %.4f' % (test_stat, pvalue))"
   ]
  },
  {
   "cell_type": "markdown",
   "id": "87966ce2",
   "metadata": {
    "papermill": {
     "duration": 0.051841,
     "end_time": "2021-10-08T11:17:18.185158",
     "exception": false,
     "start_time": "2021-10-08T11:17:18.133317",
     "status": "completed"
    },
    "tags": []
   },
   "source": [
    "H0 cannot be rejected because p-value = 0.1083 > 0.05, so that is, **homogeneous variance distribution is provided**."
   ]
  },
  {
   "cell_type": "markdown",
   "id": "600fd02d",
   "metadata": {
    "papermill": {
     "duration": 0.052296,
     "end_time": "2021-10-08T11:17:18.289669",
     "exception": false,
     "start_time": "2021-10-08T11:17:18.237373",
     "status": "completed"
    },
    "tags": []
   },
   "source": [
    "We can apply Two Independent Sample T-Tests which is categorized as parametric test, since the assumptions are satisfied. "
   ]
  },
  {
   "cell_type": "markdown",
   "id": "36007de6",
   "metadata": {
    "papermill": {
     "duration": 0.054114,
     "end_time": "2021-10-08T11:17:18.395744",
     "exception": false,
     "start_time": "2021-10-08T11:17:18.341630",
     "status": "completed"
    },
    "tags": []
   },
   "source": [
    "# Independent Samples T Test"
   ]
  },
  {
   "cell_type": "markdown",
   "id": "027874fe",
   "metadata": {
    "papermill": {
     "duration": 0.052477,
     "end_time": "2021-10-08T11:17:18.501588",
     "exception": false,
     "start_time": "2021-10-08T11:17:18.449111",
     "status": "completed"
    },
    "tags": []
   },
   "source": [
    "The independent sample t-test is used to test whether there is a statistically significant difference between two independent groups by looking at the means. This test is a parametric test and some assumptions (pre-requisites) must be fulfilled in order to report the results of the test.\n",
    "\n",
    "We checked these necessary conditions in the previous step. Again, the dependent variable in each group should be normally distributed **(Normality)**. Variances should be homogeneous. **(Homogeneity)**\n",
    "\n",
    "Apart from these two conditions, the following conditions must also be met:\n",
    "\n",
    "* The dependent variable must be continuous.\n",
    "* The argument must be categorical.\n",
    "* The dataset should not contain outliers.\n",
    "\n",
    "\n",
    "Note: The Independent Samples t Test can only compare the means for two (and only two) groups. It cannot make comparisons among more than two groups. If you wish to compare the means across more than two groups, you will likely want to run an ANOVA."
   ]
  },
  {
   "cell_type": "code",
   "execution_count": 12,
   "id": "4be12d34",
   "metadata": {
    "execution": {
     "iopub.execute_input": "2021-10-08T11:17:18.614593Z",
     "iopub.status.busy": "2021-10-08T11:17:18.613811Z",
     "iopub.status.idle": "2021-10-08T11:17:18.616480Z",
     "shell.execute_reply": "2021-10-08T11:17:18.617120Z",
     "shell.execute_reply.started": "2021-10-07T10:09:41.772594Z"
    },
    "papermill": {
     "duration": 0.06265,
     "end_time": "2021-10-08T11:17:18.617319",
     "exception": false,
     "start_time": "2021-10-08T11:17:18.554669",
     "status": "completed"
    },
    "tags": []
   },
   "outputs": [
    {
     "name": "stdout",
     "output_type": "stream",
     "text": [
      "Test Stat = -0.9416, p-value = 0.3493\n"
     ]
    }
   ],
   "source": [
    "test_stat, pvalue = ttest_ind(df_control[\"Purchase\"],\n",
    "                              df_test[\"Purchase\"],\n",
    "                              equal_var=True)\n",
    "\n",
    "print('Test Stat = %.4f, p-value = %.4f' % (test_stat, pvalue))"
   ]
  },
  {
   "cell_type": "markdown",
   "id": "a3f9eff0",
   "metadata": {
    "papermill": {
     "duration": 0.052755,
     "end_time": "2021-10-08T11:17:18.723577",
     "exception": false,
     "start_time": "2021-10-08T11:17:18.670822",
     "status": "completed"
    },
    "tags": []
   },
   "source": [
    "H0 cannot be rejected because p-value = 0.3493 > 0.05 . In other words, there is no statistically significant difference between the purchase averages of the control and test groups. There is no significant difference between maximum bidding and average bidding. "
   ]
  },
  {
   "cell_type": "markdown",
   "id": "6ec61345",
   "metadata": {
    "papermill": {
     "duration": 0.054118,
     "end_time": "2021-10-08T11:17:18.830897",
     "exception": false,
     "start_time": "2021-10-08T11:17:18.776779",
     "status": "completed"
    },
    "tags": []
   },
   "source": [
    "# Mann–Whitney U test"
   ]
  },
  {
   "cell_type": "markdown",
   "id": "fbb10038",
   "metadata": {
    "papermill": {
     "duration": 0.053827,
     "end_time": "2021-10-08T11:17:18.940112",
     "exception": false,
     "start_time": "2021-10-08T11:17:18.886285",
     "status": "completed"
    },
    "tags": []
   },
   "source": [
    "It is a non-parametric method used to compare the means of two independent groups in a distribution that does not show normal distribution. Since this test is a non-parametric test, no assumptions are necessary regarding the distribution of the scores obtained.\n",
    "\n",
    "A few necessary prerequisites for this test can be listed as follows:\n",
    "\n",
    "* The independent variable must be categorical.\n",
    "* The dependent variable must be continuous or sequential.\n",
    "* The sample selected from the population should be random.\n",
    "* The scores obtained from the groups should not show normal distribution."
   ]
  },
  {
   "cell_type": "markdown",
   "id": "7114ce1f",
   "metadata": {
    "papermill": {
     "duration": 0.053004,
     "end_time": "2021-10-08T11:17:19.046642",
     "exception": false,
     "start_time": "2021-10-08T11:17:18.993638",
     "status": "completed"
    },
    "tags": []
   },
   "source": [
    "# Functionalization of A/B Test"
   ]
  },
  {
   "cell_type": "code",
   "execution_count": 13,
   "id": "b31806cf",
   "metadata": {
    "execution": {
     "iopub.execute_input": "2021-10-08T11:17:19.158036Z",
     "iopub.status.busy": "2021-10-08T11:17:19.157259Z",
     "iopub.status.idle": "2021-10-08T11:17:19.165708Z",
     "shell.execute_reply": "2021-10-08T11:17:19.166256Z",
     "shell.execute_reply.started": "2021-10-07T10:19:41.206637Z"
    },
    "papermill": {
     "duration": 0.06537,
     "end_time": "2021-10-08T11:17:19.166466",
     "exception": false,
     "start_time": "2021-10-08T11:17:19.101096",
     "status": "completed"
    },
    "tags": []
   },
   "outputs": [],
   "source": [
    "def hypothesis_checker(df_A, df_B, col_name):\n",
    "    \n",
    "    test_stat_A, pvalue_A = shapiro(df_A[col_name])\n",
    "    test_stat_B, pvalue_B = shapiro(df_B[col_name])\n",
    "    test_stat_var, pvalue_var = levene(df_A[col_name], df_B[col_name])\n",
    "    \n",
    "    print('*Normalization Check:')\n",
    "    print('Shapiro Test for Control Group, Stat = %.4f, p-value = %.4f' % (test_stat_A, pvalue_A))\n",
    "    print('Shapiro Test for Test Group, Stat = %.4f, p-value = %.4f' % (test_stat_B, pvalue_B))\n",
    "    \n",
    "    print('*Variance Check:')\n",
    "    print('Levene Test Stat = %.4f, p-value = %.4f' % (test_stat_var, pvalue_var))\n",
    "    \n",
    "    if pvalue_A < 0.05 and pvalue_B < 0.05:\n",
    "        test_stat, pvalue = mannwhitneyu(df_A[col_name], df_B[col_name])\n",
    "\n",
    "        print(\" \")\n",
    "        print('Mann–Whitney U Test Stat = %.4f, p-value = %.4f' % (test_stat, pvalue))\n",
    "        print(f'H0 hypothesis {\"NOT REJECTED\" if pvalue > 0.05 else \"REJECTED\"} in Mann–Whitney U Test')\n",
    "        \n",
    "    else:\n",
    "        test_stat, pvalue = ttest_ind(df_A[col_name], df_B[col_name], equal_var=(True if pvalue_var > 0.05 else False))\n",
    "\n",
    "        print(\" \")\n",
    "        print('Independent Samples T Test Stat = %.4f, p-value = %.4f' % (test_stat, pvalue))\n",
    "        print(f'H0 hypothesis {\"NOT REJECTED\" if pvalue > 0.05 else \"REJECTED\"}, Independent Samples T Test')"
   ]
  },
  {
   "cell_type": "code",
   "execution_count": 14,
   "id": "8559dce0",
   "metadata": {
    "execution": {
     "iopub.execute_input": "2021-10-08T11:17:19.280617Z",
     "iopub.status.busy": "2021-10-08T11:17:19.276193Z",
     "iopub.status.idle": "2021-10-08T11:17:19.285688Z",
     "shell.execute_reply": "2021-10-08T11:17:19.284699Z",
     "shell.execute_reply.started": "2021-10-07T10:19:44.034922Z"
    },
    "papermill": {
     "duration": 0.06626,
     "end_time": "2021-10-08T11:17:19.285994",
     "exception": false,
     "start_time": "2021-10-08T11:17:19.219734",
     "status": "completed"
    },
    "tags": []
   },
   "outputs": [
    {
     "name": "stdout",
     "output_type": "stream",
     "text": [
      "*Normalization Check:\n",
      "Shapiro Test for Control Group, Stat = 0.9756, p-value = 0.5306\n",
      "Shapiro Test for Test Group, Stat = 0.9780, p-value = 0.6163\n",
      "*Variance Check:\n",
      "Levene Test Stat = 0.3532, p-value = 0.5540\n",
      " \n",
      "Independent Samples T Test Stat = -9.2545, p-value = 0.0000\n",
      "H0 hypothesis REJECTED, Independent Samples T Test\n"
     ]
    }
   ],
   "source": [
    "hypothesis_checker(df_control, df_test, 'Earning')"
   ]
  },
  {
   "cell_type": "markdown",
   "id": "ff0e2fe3",
   "metadata": {
    "papermill": {
     "duration": 0.052271,
     "end_time": "2021-10-08T11:17:19.392395",
     "exception": false,
     "start_time": "2021-10-08T11:17:19.340124",
     "status": "completed"
    },
    "tags": []
   },
   "source": [
    "The normality is provided beacuse P-value = 0.5306 and 0.6163 > 0.05 that is, H0 can not rejected.\n",
    "The variance homogenity is provided beacuse P-value = 0.5540 > 0.05 that is, H0 can not rejected.\n",
    "Due to the **normality** and **variance homogenity assumptions are provided**, we should perform Independent Samples T Test (parametric test).\n",
    "\n",
    "\n",
    "\n",
    "As a result of Independent Samples T Test, there is a statistically significant difference between them because p-value = 0.0000 < 0.05 so H0 is rejected. Considering the gain in the test group, the test group earns more. That's why we should choose average bidding."
   ]
  },
  {
   "cell_type": "code",
   "execution_count": 15,
   "id": "819853a4",
   "metadata": {
    "execution": {
     "iopub.execute_input": "2021-10-08T11:17:19.501703Z",
     "iopub.status.busy": "2021-10-08T11:17:19.500711Z",
     "iopub.status.idle": "2021-10-08T11:17:19.507436Z",
     "shell.execute_reply": "2021-10-08T11:17:19.508067Z",
     "shell.execute_reply.started": "2021-10-07T11:41:11.58201Z"
    },
    "papermill": {
     "duration": 0.063198,
     "end_time": "2021-10-08T11:17:19.508285",
     "exception": false,
     "start_time": "2021-10-08T11:17:19.445087",
     "status": "completed"
    },
    "tags": []
   },
   "outputs": [
    {
     "name": "stdout",
     "output_type": "stream",
     "text": [
      "control_mean 1908.5682998027492\n",
      "test_mean 2514.8907326506173\n"
     ]
    }
   ],
   "source": [
    "print('control_mean', df_control['Earning'].mean())\n",
    "print('test_mean', df_test['Earning'].mean())"
   ]
  },
  {
   "cell_type": "markdown",
   "id": "fc2d1104",
   "metadata": {
    "papermill": {
     "duration": 0.052974,
     "end_time": "2021-10-08T11:17:19.615060",
     "exception": false,
     "start_time": "2021-10-08T11:17:19.562086",
     "status": "completed"
    },
    "tags": []
   },
   "source": [
    "The presumability of normality is provided beacuse P-value = 0.5306 and 0.6163 > 0.05 that is, H0 can not rejected.\n",
    "The presumability of variance homogenity is not provided beacuse P-value = 0.5540 > 0.05 that is, H0 can not rejected.\n",
    "\n",
    "\n",
    "In this case, we should perform parametric testing.(Independent Samples T Test)\n",
    "\n",
    "\n",
    "As a result, there is a statistically significant difference between them because p-value = 0.0000 < 0.05 so H0 is rejected. When you look at the gain in the test group, the test group gains more. That's why we can choose average bidding."
   ]
  },
  {
   "cell_type": "markdown",
   "id": "5987261f",
   "metadata": {
    "papermill": {
     "duration": 0.053275,
     "end_time": "2021-10-08T11:17:19.721606",
     "exception": false,
     "start_time": "2021-10-08T11:17:19.668331",
     "status": "completed"
    },
    "tags": []
   },
   "source": [
    "# Another Aspect - Conversion of Impression to Click"
   ]
  },
  {
   "cell_type": "markdown",
   "id": "a0965f35",
   "metadata": {
    "papermill": {
     "duration": 0.052694,
     "end_time": "2021-10-08T11:17:19.827239",
     "exception": false,
     "start_time": "2021-10-08T11:17:19.774545",
     "status": "completed"
    },
    "tags": []
   },
   "source": [
    "# Two Proportion Z-Test"
   ]
  },
  {
   "cell_type": "markdown",
   "id": "759d21dd",
   "metadata": {
    "papermill": {
     "duration": 0.052464,
     "end_time": "2021-10-08T11:17:19.933516",
     "exception": false,
     "start_time": "2021-10-08T11:17:19.881052",
     "status": "completed"
    },
    "tags": []
   },
   "source": [
    "**The Two-Proportions Z-Test is used to compare two ratios.**\n",
    "\n",
    "Let's assume we have 2 groups of individuals: + Group 1, individuals with skin cancer: n = 100 + Group 2, healthy individuals: n = 100\n",
    "\n",
    "Number of smokers in each group:\n",
    "\n",
    "\n",
    "490 individuals from group 1 male: 98/100 = 98%\n",
    "\n",
    "400 individuals from group 2 male: 80/100 = 80%\n",
    "In total:\n",
    "\n",
    "\n",
    "Percentage of male: 89%\n",
    "\n",
    "Percentage of female: 11%\n",
    "\n",
    "What we want to investigate is whether the proportion of gender in the two groups is the same."
   ]
  },
  {
   "cell_type": "markdown",
   "id": "71653d1e",
   "metadata": {
    "papermill": {
     "duration": 0.052541,
     "end_time": "2021-10-08T11:17:20.040245",
     "exception": false,
     "start_time": "2021-10-08T11:17:19.987704",
     "status": "completed"
    },
    "tags": []
   },
   "source": [
    "H0: μ1 = μ2 (the two population proportions are equal) The alternative hypothesis can be either two-tailed, left-tailed, or right-tailed:"
   ]
  },
  {
   "cell_type": "markdown",
   "id": "e6172bba",
   "metadata": {
    "papermill": {
     "duration": 0.052714,
     "end_time": "2021-10-08T11:17:20.146011",
     "exception": false,
     "start_time": "2021-10-08T11:17:20.093297",
     "status": "completed"
    },
    "tags": []
   },
   "source": [
    "H0 : There is a statistically significant difference between the click rate averages of control and test groups.\n",
    "\n",
    "\n",
    "H1 : There is no statistically significant difference between the click rate averages of control and test groups."
   ]
  },
  {
   "cell_type": "code",
   "execution_count": 16,
   "id": "ee9e798d",
   "metadata": {
    "execution": {
     "iopub.execute_input": "2021-10-08T11:17:20.256315Z",
     "iopub.status.busy": "2021-10-08T11:17:20.255647Z",
     "iopub.status.idle": "2021-10-08T11:17:20.261316Z",
     "shell.execute_reply": "2021-10-08T11:17:20.261833Z",
     "shell.execute_reply.started": "2021-10-07T11:40:59.099478Z"
    },
    "papermill": {
     "duration": 0.063216,
     "end_time": "2021-10-08T11:17:20.262027",
     "exception": false,
     "start_time": "2021-10-08T11:17:20.198811",
     "status": "completed"
    },
    "tags": []
   },
   "outputs": [
    {
     "name": "stdout",
     "output_type": "stream",
     "text": [
      "0.05014831092596444\n"
     ]
    }
   ],
   "source": [
    "click_a = df_control[\"Click\"].sum()\n",
    "impression_a = df_control[\"Impression\"].sum()\n",
    "print(click_a/impression_a)"
   ]
  },
  {
   "cell_type": "code",
   "execution_count": 17,
   "id": "80127c1d",
   "metadata": {
    "execution": {
     "iopub.execute_input": "2021-10-08T11:17:20.373437Z",
     "iopub.status.busy": "2021-10-08T11:17:20.372688Z",
     "iopub.status.idle": "2021-10-08T11:17:20.378350Z",
     "shell.execute_reply": "2021-10-08T11:17:20.378861Z"
    },
    "papermill": {
     "duration": 0.062791,
     "end_time": "2021-10-08T11:17:20.379056",
     "exception": false,
     "start_time": "2021-10-08T11:17:20.316265",
     "status": "completed"
    },
    "tags": []
   },
   "outputs": [
    {
     "name": "stdout",
     "output_type": "stream",
     "text": [
      "0.032922333085396625\n"
     ]
    }
   ],
   "source": [
    "click_b = df_test[\"Click\"].sum()\n",
    "impression_b = df_test[\"Impression\"].sum()\n",
    "print(click_b/impression_b)"
   ]
  },
  {
   "cell_type": "code",
   "execution_count": 18,
   "id": "a83c1e5a",
   "metadata": {
    "execution": {
     "iopub.execute_input": "2021-10-08T11:17:20.500879Z",
     "iopub.status.busy": "2021-10-08T11:17:20.499927Z",
     "iopub.status.idle": "2021-10-08T11:17:20.503173Z",
     "shell.execute_reply": "2021-10-08T11:17:20.502527Z"
    },
    "papermill": {
     "duration": 0.068204,
     "end_time": "2021-10-08T11:17:20.503327",
     "exception": false,
     "start_time": "2021-10-08T11:17:20.435123",
     "status": "completed"
    },
    "tags": []
   },
   "outputs": [],
   "source": [
    "nclicks = np.array([click_a,click_b])\n",
    "\n",
    "nad_views = np.array([impression_a,impression_b])"
   ]
  },
  {
   "cell_type": "code",
   "execution_count": 19,
   "id": "11fa11cb",
   "metadata": {
    "execution": {
     "iopub.execute_input": "2021-10-08T11:17:20.621966Z",
     "iopub.status.busy": "2021-10-08T11:17:20.621141Z",
     "iopub.status.idle": "2021-10-08T11:17:20.624985Z",
     "shell.execute_reply": "2021-10-08T11:17:20.624412Z"
    },
    "papermill": {
     "duration": 0.066723,
     "end_time": "2021-10-08T11:17:20.625154",
     "exception": false,
     "start_time": "2021-10-08T11:17:20.558431",
     "status": "completed"
    },
    "tags": []
   },
   "outputs": [
    {
     "data": {
      "text/plain": [
       "(129.3304801715903, 0.0)"
      ]
     },
     "execution_count": 19,
     "metadata": {},
     "output_type": "execute_result"
    }
   ],
   "source": [
    "proportions_ztest(count=nclicks,nobs=nad_views)"
   ]
  },
  {
   "cell_type": "markdown",
   "id": "0f2bc8bb",
   "metadata": {
    "papermill": {
     "duration": 0.057575,
     "end_time": "2021-10-08T11:17:20.738811",
     "exception": false,
     "start_time": "2021-10-08T11:17:20.681236",
     "status": "completed"
    },
    "tags": []
   },
   "source": [
    "There is a statistically significant difference between them \n",
    "\n",
    "because p-value = 0.0000 < 0.05 so **H0 is rejected.**\n",
    "\n",
    "Based on the current average click-through rates, \n",
    "* the maximum bidding 5 out of 100 people click on the ad, while \n",
    "* the ad the average bidding 3 out of 100 people click on.\n",
    "\n",
    "So, if the company wants to increase the click-through rate, it may prefer maximum bidding."
   ]
  },
  {
   "cell_type": "markdown",
   "id": "0167ed30",
   "metadata": {
    "papermill": {
     "duration": 0.055258,
     "end_time": "2021-10-08T11:17:20.849884",
     "exception": false,
     "start_time": "2021-10-08T11:17:20.794626",
     "status": "completed"
    },
    "tags": []
   },
   "source": [
    "# Conclusion"
   ]
  },
  {
   "cell_type": "markdown",
   "id": "030f8cc9",
   "metadata": {
    "papermill": {
     "duration": 0.054795,
     "end_time": "2021-10-08T11:17:20.960126",
     "exception": false,
     "start_time": "2021-10-08T11:17:20.905331",
     "status": "completed"
    },
    "tags": []
   },
   "source": [
    "Running an A/B test that directly compares a variation to a current experience allows you to ask questions about changes to your website or app and then collect data on the impact of that change.\n",
    "\n",
    "Based on the assumptions in website optimization, the test allows to make analyzes about business processes that can be called \"we know\" instead of \"we think\". By measuring the impact of changes on your metrics, you can get an idea of the consequences of each change.\n",
    "\n",
    "To sum it up, let's review once again what you need to do the A/B test.\n",
    "\n",
    "* Basic data should be collected\n",
    "\n",
    "* Goals must be set\n",
    "\n",
    "* Establish an assumption (estimate how a particular element might perform better)\n",
    "\n",
    "* A variable must be created (a variable must be created to oppose the existing element based on the assumption)\n",
    "\n",
    "* Run the test (must take into account time, means, etc. Be sure to test both versions (control and test) simultaneously to ensure validity of results\n",
    "\n",
    "* Analyze the results – review the results to make sure the desired effect is achieved. Then choose which version performs better."
   ]
  }
 ],
 "metadata": {
  "kernelspec": {
   "display_name": "Python 3",
   "language": "python",
   "name": "python3"
  },
  "language_info": {
   "codemirror_mode": {
    "name": "ipython",
    "version": 3
   },
   "file_extension": ".py",
   "mimetype": "text/x-python",
   "name": "python",
   "nbconvert_exporter": "python",
   "pygments_lexer": "ipython3",
   "version": "3.8.8"
  },
  "papermill": {
   "default_parameters": {},
   "duration": 28.83275,
   "end_time": "2021-10-08T11:17:22.153667",
   "environment_variables": {},
   "exception": null,
   "input_path": "__notebook__.ipynb",
   "output_path": "__notebook__.ipynb",
   "parameters": {},
   "start_time": "2021-10-08T11:16:53.320917",
   "version": "2.3.3"
  }
 },
 "nbformat": 4,
 "nbformat_minor": 5
}
